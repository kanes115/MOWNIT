{
 "cells": [
  {
   "cell_type": "markdown",
   "metadata": {},
   "source": [
    "# Sprawozdanie MOWNIT\n",
    "## laboratorium 2"
   ]
  },
  {
   "cell_type": "markdown",
   "metadata": {},
   "source": [
    "### Zadanie 1.\n",
    "### Bisection method\n",
    "### TODO: set precision"
   ]
  },
  {
   "cell_type": "code",
   "execution_count": 220,
   "metadata": {
    "collapsed": true
   },
   "outputs": [],
   "source": [
    "import matplotlib.pyplot as plt\n",
    "import numpy as np\n",
    "import math as m"
   ]
  },
  {
   "cell_type": "code",
   "execution_count": 221,
   "metadata": {},
   "outputs": [
    {
     "data": {
      "image/png": "[encoded data removed]",
      "text/plain": [
       "<matplotlib.figure.Figure at 0x106923048>"
      ]
     },
     "metadata": {},
     "output_type": "display_data"
    },
    {
     "data": {
      "image/png": "[encoded data removed]",
      "text/plain": [
       "<matplotlib.figure.Figure at 0x106a49f60>"
      ]
     },
     "metadata": {},
     "output_type": "display_data"
    },
    {
     "data": {
      "image/png": "[encoded data removed]",
      "text/plain": [
       "<matplotlib.figure.Figure at 0x106331588>"
      ]
     },
     "metadata": {},
     "output_type": "display_data"
    }
   ],
   "source": [
    "def plot(f, xs):\n",
    "    ys_f = np.vectorize(lambda x: f(x))\n",
    "    ys = ys_f(xs)\n",
    "    plt.plot(xs, ys)\n",
    "    plt.plot([xs[0], xs[xs.size - 1]], [0, 0])\n",
    "    plt.show()\n",
    "\n",
    "# Functions to be tested\n",
    "def g(x):\n",
    "    return (x + 3.333)*(x + 3.333)*(x + 3.333)\n",
    "\n",
    "def f1(x):\n",
    "    return m.cos(x) * np.cosh(x)\n",
    "\n",
    "def f2(x):\n",
    "    return (1 / x) - m.tan(x)\n",
    "    \n",
    "def f3(x):\n",
    "    return 2 ** (-x) + m.exp(x) + 2*m.cos(x) - 6\n",
    "\n",
    "# plots\n",
    "plot(g, np.arange(-5.0, 3, 0.01))\n",
    "plot(f1, np.arange(3 * m.pi / 2, 2 * m.pi, 0.01))\n",
    "# plot(f2, np.arange(0, m.pi / 2, 0.01))\n",
    "plot(f3, np.arange(1, 3, 0.01))"
   ]
  },
  {
   "cell_type": "code",
   "execution_count": 222,
   "metadata": {
    "collapsed": true
   },
   "outputs": [],
   "source": [
    "def digits(val, n):\n",
    "    return val"
   ]
  },
  {
   "cell_type": "code",
   "execution_count": 223,
   "metadata": {},
   "outputs": [],
   "source": [
    "def bisect(f, a, b, eps, max_iters=100, iter_c=0):\n",
    "    mid = a + (b - a) / 2\n",
    "    if abs(f(mid)) < eps or iter_c == max_iters or abs(b - a) < eps:\n",
    "        return (mid, iter_c)\n",
    "    if f(mid) < 0:\n",
    "        res, iters = bisect(f, mid, b, eps, iter_c + 1)\n",
    "        return (res, iters + 1)\n",
    "    else:\n",
    "        res, iters = bisect(f, a, mid, eps, iter_c + 1)\n",
    "        return (res, iters + 1)"
   ]
  },
  {
   "cell_type": "code",
   "execution_count": 224,
   "metadata": {},
   "outputs": [
    {
     "name": "stdout",
     "output_type": "stream",
     "text": [
      "4.712388983310525 28\n",
      "1.6286189022e-07\n"
     ]
    }
   ],
   "source": [
    "res, iters = bisect(f1, 3*m.pi/2, m.pi*2, 0.00000001)\n",
    "print(res, iters)\n",
    "print(f1(res))"
   ]
  },
  {
   "cell_type": "markdown",
   "metadata": {},
   "source": [
    "### Zadanie 2\n",
    "### Newton's method"
   ]
  },
  {
   "cell_type": "code",
   "execution_count": 225,
   "metadata": {
    "collapsed": true
   },
   "outputs": [],
   "source": [
    "def df(f, x, h=0.0001):\n",
    "    return (f(x + h) - f(x)) / h\n",
    " \n",
    "def newtons_roots(f, x0, eps, itermax=100):\n",
    "    iter_c = 0\n",
    "    while abs(f(x0)) > eps and iter_c < itermax:\n",
    "        x0 = x0 - f(x0) / df(f, x0)\n",
    "        delta = abs(f(x0))\n",
    "        iter_c += 1\n",
    "    if iter_c + 1 == itermax:\n",
    "        print(\"stopped by iteration limit\")\n",
    "    return (x0, iter_c)"
   ]
  },
  {
   "cell_type": "code",
   "execution_count": 226,
   "metadata": {},
   "outputs": [
    {
     "data": {
      "text/plain": [
       "(1.5707963267982139, 6)"
      ]
     },
     "execution_count": 226,
     "metadata": {},
     "output_type": "execute_result"
    }
   ],
   "source": [
    "newtons_roots(f1, 3.4, 0.0000000001)"
   ]
  },
  {
   "cell_type": "markdown",
   "metadata": {
    "collapsed": true
   },
   "source": [
    "## Zadanie 3"
   ]
  },
  {
   "cell_type": "code",
   "execution_count": 227,
   "metadata": {},
   "outputs": [],
   "source": [
    "def siecznych_method(f, a, b, eps, max_iters=100, iters=0):\n",
    "    x0 = a - f(a) * (a - b) / (f(a) - f(b))\n",
    "#     print(\"iters: \", iters, x0)\n",
    "    if abs(f(x0)) < eps or iters == max_iters:\n",
    "        return x0, iters\n",
    "    return siecznych_method(f, x0, a, eps, max_iters, iters + 1)"
   ]
  },
  {
   "cell_type": "code",
   "execution_count": 233,
   "metadata": {},
   "outputs": [
    {
     "name": "stdout",
     "output_type": "stream",
     "text": [
      "Bisect:  4.712388983310525 28 1.6286189022e-07\n",
      "Newtons:  4.71238898038 6 6.41684658049e-12\n",
      "siecznych:  4.71238898038 0 -1.02251971856e-14\n",
      "Bisect:  2.9258361585343192e-09 28 341782637.7882158\n",
      "Newtons:  0.8603335890225966 3 -1.1908918295944204e-11\n",
      "siecznych:  0.8603335890193798 14 0.0\n",
      "Bisect:  1.8293836042284966 27 9.411497359224086e-09\n",
      "Newtons:  1.8293836019460663 4 5.0110138261061365e-11\n",
      "siecznych:  1.829383601933764 9 -3.490541189421492e-13\n"
     ]
    }
   ],
   "source": [
    "res1, iter1 = bisect(f1, 3*m.pi/2, m.pi*2, 0.00000001)\n",
    "res2, iter2 = newtons_roots(f1, (3*m.pi/2 + m.pi*2) / 2, 0.0000000001)\n",
    "res3, iter3 = siecznych_method(f1, 3*m.pi/2, m.pi*2, 0.0000000001)\n",
    "print(\"Bisect: \", res1, iter1, f1(res1))\n",
    "print(\"Newtons: \", res2, iter2, f1(res2))\n",
    "print(\"siecznych: \", res3, iter3, f1(res3))\n",
    "\n",
    "res11, iter11 = bisect(f2, 0, m.pi/2, 0.00000001)\n",
    "res22, iter22 = newtons_roots(f2, m.pi / 4, 0.0000000001)\n",
    "res33, iter33 = siecznych_method(f2, 0.01, m.pi/2, 0.0000000001)\n",
    "print(\"Bisect: \", res11, iter11, f2(res11))\n",
    "print(\"Newtons: \", res22, iter22, f2(res22))\n",
    "print(\"siecznych: \", res33, iter33, f2(res33))\n",
    "\n",
    "res111, iter111 = bisect(f3, 1, 3, 0.00000001)\n",
    "res222, iter222 = newtons_roots(f3, 2, 0.0000000001)\n",
    "res333, iter333 = siecznych_method(f3, 1, 3, 0.0000000001)\n",
    "print(\"Bisect: \", res111, iter111, f3(res111))\n",
    "print(\"Newtons: \", res222, iter222, f3(res222))\n",
    "print(\"siecznych: \", res333, iter333, f3(res333))"
   ]
  },
  {
   "cell_type": "code",
   "execution_count": null,
   "metadata": {
    "collapsed": true
   },
   "outputs": [],
   "source": []
  }
 ],
 "metadata": {
  "kernelspec": {
   "display_name": "Python 3",
   "language": "python",
   "name": "python3"
  },
  "language_info": {
   "codemirror_mode": {
    "name": "ipython",
    "version": 3
   },
   "file_extension": ".py",
   "mimetype": "text/x-python",
   "name": "python",
   "nbconvert_exporter": "python",
   "pygments_lexer": "ipython3",
   "version": "3.6.0"
  }
 },
 "nbformat": 4,
 "nbformat_minor": 2
}
