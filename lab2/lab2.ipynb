{
 "cells": [
  {
   "cell_type": "markdown",
   "metadata": {},
   "source": [
    "# Sprawozdanie lab 2\n",
    "## Dominik Stanaszek"
   ]
  },
  {
   "cell_type": "code",
   "execution_count": 1890,
   "metadata": {
    "collapsed": true
   },
   "outputs": [],
   "source": [
    "import numpy as np\n",
    "import pprint as pp\n",
    "import networkx as nx\n",
    "import matplotlib.pyplot as plt\n",
    "from numpy.linalg import inv\n",
    "import sympy as sp"
   ]
  },
  {
   "cell_type": "markdown",
   "metadata": {},
   "source": [
    "# Task 1"
   ]
  },
  {
   "cell_type": "markdown",
   "metadata": {},
   "source": [
    "# Gauss-Jordan Method"
   ]
  },
  {
   "cell_type": "code",
   "execution_count": 1891,
   "metadata": {
    "collapsed": true
   },
   "outputs": [],
   "source": [
    "def Gauss_Jordan(n, matrix):\n",
    "    for i in range(n):\n",
    "        for j in range(i + 1, n):\n",
    "            mji = - matrix[j][i] / matrix[i][i]\n",
    "            newRj = matrix[j] + matrix[i] * mji\n",
    "            matrix[j] = newRj\n",
    "            \n",
    "    for i in range(n - 1, -1, -1):\n",
    "        for j in range(i - 1, -1, -1):\n",
    "            mji = - matrix[j][i] / matrix[i][i]\n",
    "            newRj = matrix[j] + matrix[i] * mji\n",
    "            matrix[j] = newRj"
   ]
  },
  {
   "cell_type": "code",
   "execution_count": 1892,
   "metadata": {
    "collapsed": true
   },
   "outputs": [],
   "source": [
    "matrix = np.random.rand(5, 6)"
   ]
  },
  {
   "cell_type": "code",
   "execution_count": 1893,
   "metadata": {},
   "outputs": [
    {
     "name": "stdout",
     "output_type": "stream",
     "text": [
      "[[ 0.33770809  0.2944001   0.87379215  0.24328784  0.66497389  0.30512346]\n",
      " [ 0.67905745  0.29639006  0.98478527  0.86361844  0.44786103  0.19773637]\n",
      " [ 0.4334794   0.36776333  0.16116789  0.0393352   0.62948721  0.35903368]\n",
      " [ 0.00648687  0.77185086  0.08864899  0.84447745  0.93757591  0.2595197 ]\n",
      " [ 0.23149745  0.27321076  0.09831091  0.94785739  0.4575285   0.45226523]]\n"
     ]
    }
   ],
   "source": [
    "print(matrix)"
   ]
  },
  {
   "cell_type": "code",
   "execution_count": 1894,
   "metadata": {},
   "outputs": [
    {
     "name": "stdout",
     "output_type": "stream",
     "text": [
      "[[  3.37708086e-01   0.00000000e+00   0.00000000e+00  -5.52887258e-17\n",
      "    3.01248254e-17   8.55941364e-02]\n",
      " [ -9.50181807e-17  -2.95584468e-01   0.00000000e+00  -5.55111512e-17\n",
      "    5.29202672e-18   4.59512960e-01]\n",
      " [ -5.52504055e-17   1.59133065e-18  -9.33969610e-01   0.00000000e+00\n",
      "    1.45404865e-17   3.14913479e-01]\n",
      " [  2.19398862e-17  -2.68953485e-18   0.00000000e+00   2.40083955e+00\n",
      "   -1.11022302e-16   5.62372964e-01]\n",
      " [ -1.03597966e-16   3.38715205e-19   0.00000000e+00   0.00000000e+00\n",
      "    3.71022555e-01   5.10433433e-01]]\n"
     ]
    }
   ],
   "source": [
    "Gauss_Jordan(5, matrix)\n",
    "print(matrix)"
   ]
  },
  {
   "cell_type": "markdown",
   "metadata": {},
   "source": [
    "# Task 2"
   ]
  },
  {
   "cell_type": "markdown",
   "metadata": {},
   "source": [
    "# LU Decomposition"
   ]
  },
  {
   "cell_type": "code",
   "execution_count": 1895,
   "metadata": {
    "collapsed": true
   },
   "outputs": [],
   "source": [
    "def scale(matrix):\n",
    "    scale_ratio = matrix.max()\n",
    "    return matrix / scale_ratio, scale_ratio\n",
    "\n",
    "def pivot(matrix, i, P):\n",
    "    max_ind = matrix[i:, i].argmax() + i\n",
    "    \n",
    "    tmp = np.copy(matrix[max_ind])\n",
    "    matrix[max_ind] = matrix[i]\n",
    "    matrix[i] = tmp\n",
    "\n",
    "    tmp = np.copy(P[max_ind])\n",
    "    P[max_ind] = P[i]\n",
    "    P[i] = tmp\n",
    "    \n",
    "    return matrix, P\n",
    "\n",
    "def LU_factorization(mat, scaled=True, pivoted=True):\n",
    "    n, n = mat.shape\n",
    "    matrix = np.copy(mat) # we copy, to be able to then compare matrices\n",
    "    P = np.zeros((n, n), np.float64)\n",
    "    np.fill_diagonal(P, 1)\n",
    "    \n",
    "    if scaled:\n",
    "        matrix, ratio = scale(matrix)\n",
    "    for i in range(n):\n",
    "        if pivoted:\n",
    "            matrix, P = pivot(matrix, i, P)\n",
    "        for j in range(i + 1, n):\n",
    "            mji = - matrix[j][i] / matrix[i][i]\n",
    "            matrix[j][i:n] = matrix[j][i:n] + matrix[i][i:n] * mji\n",
    "            matrix[j][i] = - mji\n",
    "    L = np.copy(matrix)\n",
    "    U = np.copy(matrix)\n",
    "    \n",
    "    for i in range(n):\n",
    "        for j in range(i + 1, n):\n",
    "            U[j][i] = np.float64(0)\n",
    "    \n",
    "    for i in range(n - 1, -1, -1):\n",
    "        for j in range(i, -1, -1):\n",
    "            if i == j:\n",
    "                L[j][i] = np.float64(1)\n",
    "            else:\n",
    "                L[j][i] = np.float64(0)\n",
    "    if scaled:\n",
    "        return L, U, P, ratio\n",
    "    return L, U, P"
   ]
  },
  {
   "cell_type": "markdown",
   "metadata": {},
   "source": [
    "### Test"
   ]
  },
  {
   "cell_type": "code",
   "execution_count": 1896,
   "metadata": {},
   "outputs": [
    {
     "name": "stdout",
     "output_type": "stream",
     "text": [
      "A:\n",
      "array([[ 5.        ,  0.23524766,  0.59324141,  0.20959483,  0.51310697],\n",
      "       [ 0.09050687,  0.12728329,  0.65444254,  0.60391033,  0.23614262],\n",
      "       [ 0.12866289,  0.85057299,  0.09585863,  0.15437626,  0.88833585],\n",
      "       [ 0.28587449,  0.21972666,  0.14211491,  0.64173527,  0.6983261 ],\n",
      "       [ 0.58566692,  0.55115629,  0.6101541 ,  0.64429292,  0.2625201 ]])\n",
      "L:\n",
      "array([[ 1.        ,  0.        ,  0.        ,  0.        ,  0.        ],\n",
      "       [ 0.02573258,  1.        ,  0.        ,  0.        ,  0.        ],\n",
      "       [ 0.01810137,  0.14567454,  1.        ,  0.        ,  0.        ],\n",
      "       [ 0.0571749 ,  0.24425299,  0.14005758,  1.        ,  0.        ],\n",
      "       [ 0.11713338,  0.61999866,  0.77646575,  0.15273716,  1.        ]])\n",
      "U:\n",
      "array([[ 1.        ,  0.04704953,  0.11864828,  0.04191897,  0.10262139],\n",
      "       [ 0.        ,  0.16890389,  0.0161186 ,  0.02979657,  0.17502646],\n",
      "       [ 0.        ,  0.        ,  0.12639274,  0.11568267,  0.01987404],\n",
      "       [ 0.        ,  0.        ,  0.        ,  0.1024702 ,  0.08826361],\n",
      "       [ 0.        ,  0.        ,  0.        ,  0.        , -0.09694518]])\n",
      "P:\n",
      "array([[ 1.,  0.,  0.,  0.,  0.],\n",
      "       [ 0.,  0.,  1.,  0.,  0.],\n",
      "       [ 0.,  1.,  0.,  0.,  0.],\n",
      "       [ 0.,  0.,  0.,  1.,  0.],\n",
      "       [ 0.,  0.,  0.,  0.,  1.]])\n",
      "L * 8 dot U:\n",
      "array([[ 5.        ,  0.23524766,  0.59324141,  0.20959483,  0.51310697],\n",
      "       [ 0.12866289,  0.85057299,  0.09585863,  0.15437626,  0.88833585],\n",
      "       [ 0.09050687,  0.12728329,  0.65444254,  0.60391033,  0.23614262],\n",
      "       [ 0.28587449,  0.21972666,  0.14211491,  0.64173527,  0.6983261 ],\n",
      "       [ 0.58566692,  0.55115629,  0.6101541 ,  0.64429292,  0.2625201 ]])\n",
      "PA:\n",
      "array([[ 5.        ,  0.23524766,  0.59324141,  0.20959483,  0.51310697],\n",
      "       [ 0.12866289,  0.85057299,  0.09585863,  0.15437626,  0.88833585],\n",
      "       [ 0.09050687,  0.12728329,  0.65444254,  0.60391033,  0.23614262],\n",
      "       [ 0.28587449,  0.21972666,  0.14211491,  0.64173527,  0.6983261 ],\n",
      "       [ 0.58566692,  0.55115629,  0.6101541 ,  0.64429292,  0.2625201 ]])\n"
     ]
    }
   ],
   "source": [
    "A = np.random.rand(5, 5)\n",
    "A[0][0] = 5\n",
    "print(\"A:\")\n",
    "pp.pprint(A)\n",
    "\n",
    "L, U, P, ratio = LU_factorization(A, True, True)\n",
    "\n",
    "# We check the results - matrices L, U, their inner product\n",
    "print(\"L:\")\n",
    "pp.pprint(L)\n",
    "\n",
    "print(\"U:\")\n",
    "pp.pprint(U)\n",
    "\n",
    "print(\"P:\")\n",
    "pp.pprint(P)\n",
    "\n",
    "print(\"L * 8 dot U:\") # because 8 is the scaling ratio\n",
    "LU = np.dot(L * ratio, U)\n",
    "pp.pprint(LU)\n",
    "PA = np.dot(P, A)\n",
    "print(\"PA:\")\n",
    "pp.pprint(PA)"
   ]
  },
  {
   "cell_type": "markdown",
   "metadata": {
    "collapsed": true
   },
   "source": [
    "# Task 3"
   ]
  },
  {
   "cell_type": "markdown",
   "metadata": {},
   "source": [
    "##  Electrical network analysis"
   ]
  },
  {
   "cell_type": "code",
   "execution_count": 1897,
   "metadata": {},
   "outputs": [
    {
     "data": {
      "image/png": "[encoded data removed]",
      "text/plain": [
       "<matplotlib.figure.Figure at 0x10c1bf358>"
      ]
     },
     "metadata": {},
     "output_type": "display_data"
    },
    {
     "name": "stdout",
     "output_type": "stream",
     "text": [
      "[(0, 1, {'weight': 10.0}), (0, 2, {'weight': 20.0}), (0, 3, {'weight': 0}), (1, 3, {'weight': 30.0}), (2, 3, {'weight': 40.0})]\n"
     ]
    }
   ],
   "source": [
    "G = nx.read_edgelist(\"example_circuit.csv\", delimiter=\",\", data=[(\"weight\", float)])\n",
    "G = nx.relabel_nodes(G, lambda x: int(x))  # relabel nodes to be integers\n",
    "[s, t, E] = np.genfromtxt('example_SEM.csv', dtype=int, delimiter=',')  # load SEM\n",
    "G.add_edge(s, t, weight=0)\n",
    "nx.draw_networkx(G)\n",
    "plt.show()\n",
    "print(G.edges(data=True))\n",
    "# drawaing with SEM"
   ]
  },
  {
   "cell_type": "markdown",
   "metadata": {},
   "source": [
    "Generate matrix A \n",
    "Rows are nodes and columns are currents (edges)\n",
    "if at A[i][j] is:\n",
    "    - (-1) means current Ij for node i-th is going out, \n",
    "    - 1 means current Ij for node i-th is going out\n",
    "    - 0 means that node to node i-th current Ij is not going in or out (the edge has not got its endings in i-th node)"
   ]
  },
  {
   "cell_type": "code",
   "execution_count": 1898,
   "metadata": {},
   "outputs": [
    {
     "name": "stdout",
     "output_type": "stream",
     "text": [
      "[0, 1, 2, 3]\n"
     ]
    },
    {
     "data": {
      "text/plain": [
       "array([[ 1.,  1.,  1.,  0.,  0.],\n",
       "       [-1.,  0.,  0.,  1.,  0.],\n",
       "       [ 0., -1.,  0.,  0.,  1.],\n",
       "       [ 0.,  0., -1., -1., -1.]])"
      ]
     },
     "execution_count": 1898,
     "metadata": {},
     "output_type": "execute_result"
    }
   ],
   "source": [
    "# We are assuming some current direction (our assumption - from lower node to higher node)\n",
    "A = np.zeros((len(G.nodes), len(G.edges)))\n",
    "print(G.nodes)\n",
    "counter = 0\n",
    "for i in G.edges:\n",
    "    lower = min(i[0], i[1])\n",
    "    higher = max(i[0], i[1])\n",
    "    A[lower][counter] = 1\n",
    "    A[higher][counter] = -1\n",
    "    G[i[0]][i[1]]['edge_label'] = counter\n",
    "    counter += 1\n",
    "A"
   ]
  },
  {
   "cell_type": "markdown",
   "metadata": {},
   "source": [
    "A * I = U\n",
    "\n",
    "I = U * A^(-1)"
   ]
  },
  {
   "cell_type": "code",
   "execution_count": 1899,
   "metadata": {},
   "outputs": [
    {
     "data": {
      "text/plain": [
       "array([[ -1.,   0.,   0.,   1.,   0.],\n",
       "       [  0.,  -1.,   0.,   0.,   1.],\n",
       "       [  0.,   0.,  -1.,  -1.,  -1.],\n",
       "       [ 10.,   0.,   0.,  30.,   0.],\n",
       "       [  0.,  20.,   0.,   0.,  40.]])"
      ]
     },
     "execution_count": 1899,
     "metadata": {},
     "output_type": "execute_result"
    }
   ],
   "source": [
    "def has_SEM(c):\n",
    "    if (c[0] == s and c[-1] == t) or (c[0] == t and c[1] == s):\n",
    "        return True\n",
    "    for i in range(len(c) - 1):\n",
    "        if (c[i] == s and c[i + 1] == t) or (c[i] == t and c[i + 1] == s):\n",
    "            return True\n",
    "    return False\n",
    "\n",
    "A = A[1:]\n",
    "\n",
    "cycles = nx.cycle_basis(G)\n",
    "\n",
    "U = np.zeros((len(G.edges), 1))\n",
    "\n",
    "counter = A.shape[0] - 1\n",
    "\n",
    "for c in cycles:\n",
    "    new_row = np.zeros((1, A.shape[1]))\n",
    "    if has_SEM(c):\n",
    "            U[counter+1][0] = E\n",
    "    for i in range(0, len(c)):\n",
    "        if i == len(c) - 1:\n",
    "            column = G[c[i]][c[0]]['edge_label']\n",
    "            new_row[0][column] = G[c[i]][c[0]]['weight']\n",
    "        else:\n",
    "            column = G[c[i]][c[(i + 1)]]['edge_label']\n",
    "            new_row[0][column] = G[c[i]][c[i + 1]]['weight']\n",
    "    counter += 1\n",
    "    A = np.concatenate((A, new_row), axis=0)\n",
    "    if counter == A.shape[1]:\n",
    "        break\n",
    "A"
   ]
  },
  {
   "cell_type": "code",
   "execution_count": 1900,
   "metadata": {},
   "outputs": [
    {
     "data": {
      "text/plain": [
       "array([[ 2.5       ],\n",
       "       [ 1.66666667],\n",
       "       [-4.16666667],\n",
       "       [ 2.5       ],\n",
       "       [ 1.66666667]])"
      ]
     },
     "execution_count": 1900,
     "metadata": {},
     "output_type": "execute_result"
    }
   ],
   "source": [
    "np.linalg.solve(A, U)"
   ]
  },
  {
   "cell_type": "markdown",
   "metadata": {
    "collapsed": true
   },
   "source": [
    "### Nodal analysis network"
   ]
  },
  {
   "cell_type": "code",
   "execution_count": 1901,
   "metadata": {},
   "outputs": [
    {
     "data": {
      "image/png": "[encoded data removed]",
      "text/plain": [
       "<matplotlib.figure.Figure at 0x10c0aeac8>"
      ]
     },
     "metadata": {},
     "output_type": "display_data"
    }
   ],
   "source": [
    "c_graph = nx.read_edgelist(\"example_circuit2.csv\", delimiter=\" \", data=[(\"weight\", float)])\n",
    "c_graph = nx.relabel_nodes(c_graph, lambda x: int(x))\n",
    "[s, t, E] = np.genfromtxt('example_SEM2.csv', dtype=int, delimiter=',')  # load SEM\n",
    "nx.draw_networkx(c_graph)\n",
    "plt.show()\n",
    "# drawaing without SEM"
   ]
  },
  {
   "cell_type": "code",
   "execution_count": 1902,
   "metadata": {},
   "outputs": [],
   "source": [
    "ref_node = s    # By our convention the reference node is the first SEM's node\n",
    "given_voltage_node = t"
   ]
  },
  {
   "cell_type": "code",
   "execution_count": 1903,
   "metadata": {},
   "outputs": [],
   "source": [
    "G = np.zeros((len(c_graph.nodes()), len(c_graph.nodes()))) # Transimntation matrix"
   ]
  },
  {
   "cell_type": "code",
   "execution_count": 1904,
   "metadata": {},
   "outputs": [],
   "source": [
    "for i in c_graph.nodes():          # fill it in\n",
    "    for j in c_graph.neighbors(i):\n",
    "        G[i][i] += 1 / c_graph[i][j]['weight']\n",
    "        G[i][j] = - 1 / c_graph[i][j]['weight']"
   ]
  },
  {
   "cell_type": "code",
   "execution_count": 1905,
   "metadata": {
    "collapsed": true
   },
   "outputs": [],
   "source": [
    "extra_row = np.zeros((G.shape[0]))          # Let's add row and column in which we know \n",
    "extra_row[given_voltage_node] = -1          # the voltage because it is the one that SEM is\n",
    "G = np.vstack((G, extra_row))               # connected to\n",
    "extra_column = np.zeros((G.shape[0], 1))\n",
    "extra_column[given_voltage_node] = 1\n",
    "G = np.hstack((G, extra_column))"
   ]
  },
  {
   "cell_type": "code",
   "execution_count": 1906,
   "metadata": {
    "collapsed": true
   },
   "outputs": [],
   "source": [
    "G = np.delete(G, ref_node, 0)      # Delete row and column connected to the reference node\n",
    "G = np.delete(G, ref_node, 1)"
   ]
  },
  {
   "cell_type": "code",
   "execution_count": 1907,
   "metadata": {},
   "outputs": [],
   "source": [
    "I = np.zeros(G.shape[1])          # constant term vector\n",
    "I[G.shape[1] - 1] = E"
   ]
  },
  {
   "cell_type": "code",
   "execution_count": 1908,
   "metadata": {},
   "outputs": [],
   "source": [
    "V = np.linalg.solve(G, I)        # voltage vector in nodes"
   ]
  },
  {
   "cell_type": "code",
   "execution_count": 1909,
   "metadata": {
    "collapsed": true
   },
   "outputs": [],
   "source": [
    "V = np.insert(V, ref_node, 0, axis=0)  # Add zero voltage in reference node\n",
    "V = np.delete(V, V.shape[0] - 1, 0)    # and delete current in the branch with SEM"
   ]
  },
  {
   "cell_type": "code",
   "execution_count": 1910,
   "metadata": {},
   "outputs": [],
   "source": [
    "voltages = np.zeros((len(c_graph.nodes()), len(c_graph.nodes())))      # Matrix of voltages between nodes"
   ]
  },
  {
   "cell_type": "code",
   "execution_count": 1911,
   "metadata": {},
   "outputs": [],
   "source": [
    "for k in c_graph.nodes():                       # fill it in\n",
    "    for j in range(k, len(c_graph.nodes())):\n",
    "        voltages[k][j] = V[k] - V[j]\n",
    "        voltages[j][k] = V[j] - V[k]"
   ]
  },
  {
   "cell_type": "code",
   "execution_count": 1912,
   "metadata": {},
   "outputs": [],
   "source": [
    "for e in c_graph.edges():    # Add currents in specific branches to the graph\n",
    "    i = e[0]\n",
    "    j = e[1]\n",
    "    c_graph[i][j]['current'] = voltages[i][j] / c_graph[i][j]['weight']"
   ]
  },
  {
   "cell_type": "code",
   "execution_count": 1913,
   "metadata": {},
   "outputs": [
    {
     "name": "stdout",
     "output_type": "stream",
     "text": [
      "(0, 1) 2.5\n",
      "(0, 2) 1.66666666667\n",
      "(1, 3) 2.5\n",
      "(2, 3) 1.66666666667\n"
     ]
    }
   ],
   "source": [
    "for edge in c_graph.edges():\n",
    "    print(edge, c_graph[edge[0]][edge[1]]['current'])"
   ]
  },
  {
   "cell_type": "code",
   "execution_count": null,
   "metadata": {
    "collapsed": true
   },
   "outputs": [],
   "source": []
  }
 ],
 "metadata": {
  "kernelspec": {
   "display_name": "Python 3",
   "language": "python",
   "name": "python3"
  },
  "language_info": {
   "codemirror_mode": {
    "name": "ipython",
    "version": 3
   },
   "file_extension": ".py",
   "mimetype": "text/x-python",
   "name": "python",
   "nbconvert_exporter": "python",
   "pygments_lexer": "ipython3",
   "version": "3.6.0"
  }
 },
 "nbformat": 4,
 "nbformat_minor": 2
}
